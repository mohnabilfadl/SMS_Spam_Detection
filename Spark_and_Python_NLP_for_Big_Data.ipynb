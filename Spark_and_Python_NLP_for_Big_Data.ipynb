{
 "cells": [
  {
   "cell_type": "markdown",
   "id": "abbf1e33",
   "metadata": {
    "id": "abbf1e33"
   },
   "source": [
    "##### **Good luck with taking your exam. Keep working and make your dreams all come true. Seeing the results of all of your hard work will make this struggle worth it. We’re all thinking of you.** \n",
    "<b><font color='blue'>AI-PRO Spark Team ITI</font></b>"
   ]
  },
  {
   "cell_type": "markdown",
   "id": "c9da32d6",
   "metadata": {
    "id": "c9da32d6"
   },
   "source": [
    "# NLP Using PySpark"
   ]
  },
  {
   "cell_type": "markdown",
   "id": "8326ba88",
   "metadata": {
    "id": "8326ba88"
   },
   "source": [
    "## Objective:\n",
    "- The objective from this project is to create a <b>Spam filter using NaiveBayes classifier</b>.\n",
    "- It is required to obtain <b>f1_scored > 0.9</b>.\n",
    "- We'll use a dataset from UCI Repository. SMS Spam Detection: https://archive.ics.uci.edu/ml/datasets/SMS+Spam+Collection\n",
    "- Data is also provided for you in the assignment (you do not have to download it)."
   ]
  },
  {
   "cell_type": "markdown",
   "id": "6971f788",
   "metadata": {
    "id": "6971f788"
   },
   "source": [
    "## To perform this task follow the following guiding steps:"
   ]
  },
  {
   "cell_type": "markdown",
   "id": "e31bc851",
   "metadata": {
    "id": "e31bc851"
   },
   "source": [
    "### Create a spark session and import the required libraries"
   ]
  },
  {
   "cell_type": "code",
   "execution_count": 1,
   "id": "dcf86e46",
   "metadata": {
    "colab": {
     "base_uri": "https://localhost:8080/"
    },
    "id": "dcf86e46",
    "outputId": "2c189ed8-a830-4a05-96b8-1f0c8e45a564"
   },
   "outputs": [
    {
     "name": "stdout",
     "output_type": "stream",
     "text": [
      "Collecting pyspark\n",
      "  Downloading pyspark-3.2.0.tar.gz (281.3 MB)\n",
      "\u001b[K     |████████████████████████████████| 281.3 MB 36 kB/s \n",
      "\u001b[?25hCollecting py4j==0.10.9.2\n",
      "  Downloading py4j-0.10.9.2-py2.py3-none-any.whl (198 kB)\n",
      "\u001b[K     |████████████████████████████████| 198 kB 52.5 MB/s \n",
      "\u001b[?25hBuilding wheels for collected packages: pyspark\n",
      "  Building wheel for pyspark (setup.py) ... \u001b[?25l\u001b[?25hdone\n",
      "  Created wheel for pyspark: filename=pyspark-3.2.0-py2.py3-none-any.whl size=281805912 sha256=8a9a3baa82ec9c23dc2d39c2e0b52e81d5617da195467889a08aaa4b696198f9\n",
      "  Stored in directory: /root/.cache/pip/wheels/0b/de/d2/9be5d59d7331c6c2a7c1b6d1a4f463ce107332b1ecd4e80718\n",
      "Successfully built pyspark\n",
      "Installing collected packages: py4j, pyspark\n",
      "Successfully installed py4j-0.10.9.2 pyspark-3.2.0\n"
     ]
    }
   ],
   "source": [
    "! pip install pyspark"
   ]
  },
  {
   "cell_type": "code",
   "execution_count": 2,
   "id": "q97SSkDjZClR",
   "metadata": {
    "id": "q97SSkDjZClR"
   },
   "outputs": [],
   "source": [
    "from pyspark.sql import SparkSession\n",
    "from pyspark.sql.functions import *"
   ]
  },
  {
   "cell_type": "code",
   "execution_count": 3,
   "id": "7gR--A0uZC_e",
   "metadata": {
    "id": "7gR--A0uZC_e"
   },
   "outputs": [],
   "source": [
    "spark = SparkSession.builder.getOrCreate()"
   ]
  },
  {
   "cell_type": "markdown",
   "id": "90c7df9e",
   "metadata": {
    "id": "90c7df9e"
   },
   "source": [
    "### Read the readme file to learn more about the data"
   ]
  },
  {
   "cell_type": "markdown",
   "id": "2d00718f",
   "metadata": {
    "id": "2d00718f"
   },
   "source": [
    "### Read the data into a DataFrame"
   ]
  },
  {
   "cell_type": "code",
   "execution_count": 15,
   "id": "29914cf1",
   "metadata": {
    "id": "29914cf1"
   },
   "outputs": [],
   "source": [
    "df = spark.read.load(\"/content/SMSSpamCollection\",\n",
    "                 format=\"csv\", sep=\"\\t\", inferSchema=\"true\")"
   ]
  },
  {
   "cell_type": "markdown",
   "id": "182cd7f6",
   "metadata": {
    "id": "182cd7f6"
   },
   "source": [
    "### Print the schema"
   ]
  },
  {
   "cell_type": "code",
   "execution_count": 16,
   "id": "b52706b9",
   "metadata": {
    "colab": {
     "base_uri": "https://localhost:8080/"
    },
    "id": "b52706b9",
    "outputId": "0aa9a5e2-424b-4685-bc08-ce74d6c032af"
   },
   "outputs": [
    {
     "name": "stdout",
     "output_type": "stream",
     "text": [
      "root\n",
      " |-- _c0: string (nullable = true)\n",
      " |-- _c1: string (nullable = true)\n",
      "\n"
     ]
    }
   ],
   "source": [
    "df.printSchema()"
   ]
  },
  {
   "cell_type": "code",
   "execution_count": 17,
   "id": "rqIaeZGzbjvn",
   "metadata": {
    "colab": {
     "base_uri": "https://localhost:8080/"
    },
    "id": "rqIaeZGzbjvn",
    "outputId": "eccfb63d-fba0-4b3f-fe49-0fbe5dc9b34d"
   },
   "outputs": [
    {
     "name": "stdout",
     "output_type": "stream",
     "text": [
      "+---+--------------------+\n",
      "|_c0|                 _c1|\n",
      "+---+--------------------+\n",
      "|ham|Go until jurong p...|\n",
      "|ham|Ok lar... Joking ...|\n",
      "+---+--------------------+\n",
      "only showing top 2 rows\n",
      "\n"
     ]
    }
   ],
   "source": [
    "df.show(2)"
   ]
  },
  {
   "cell_type": "markdown",
   "id": "2b90cce7",
   "metadata": {
    "id": "2b90cce7"
   },
   "source": [
    "### Rename the first column to 'class' and second column to 'text'"
   ]
  },
  {
   "cell_type": "code",
   "execution_count": 18,
   "id": "f1a88df6",
   "metadata": {
    "id": "f1a88df6",
    "scrolled": false
   },
   "outputs": [],
   "source": [
    "df = df.withColumnRenamed(\"_c0\",'class')\n",
    "df = df.withColumnRenamed(\"_c1\", 'text')"
   ]
  },
  {
   "cell_type": "code",
   "execution_count": 19,
   "id": "62a544fc",
   "metadata": {
    "colab": {
     "base_uri": "https://localhost:8080/"
    },
    "id": "62a544fc",
    "outputId": "079c7b96-37e1-4d6d-9291-74e0d8ad6bb7"
   },
   "outputs": [
    {
     "name": "stdout",
     "output_type": "stream",
     "text": [
      "root\n",
      " |-- class: string (nullable = true)\n",
      " |-- text: string (nullable = true)\n",
      "\n"
     ]
    }
   ],
   "source": [
    "df.printSchema()"
   ]
  },
  {
   "cell_type": "markdown",
   "id": "a3e798d0",
   "metadata": {
    "id": "a3e798d0"
   },
   "source": [
    "### Show the first 10 rows from the dataframe\n",
    "- Show once with truncate=True and once with truncate=False"
   ]
  },
  {
   "cell_type": "code",
   "execution_count": 20,
   "id": "362dcb99",
   "metadata": {
    "colab": {
     "base_uri": "https://localhost:8080/"
    },
    "id": "362dcb99",
    "outputId": "3d85f674-b8db-41eb-fdfd-661270a015da"
   },
   "outputs": [
    {
     "name": "stdout",
     "output_type": "stream",
     "text": [
      "+-----+--------------------+\n",
      "|class|                text|\n",
      "+-----+--------------------+\n",
      "|  ham|Go until jurong p...|\n",
      "|  ham|Ok lar... Joking ...|\n",
      "| spam|Free entry in 2 a...|\n",
      "|  ham|U dun say so earl...|\n",
      "|  ham|Nah I don't think...|\n",
      "| spam|FreeMsg Hey there...|\n",
      "|  ham|Even my brother i...|\n",
      "|  ham|As per your reque...|\n",
      "| spam|WINNER!! As a val...|\n",
      "| spam|Had your mobile 1...|\n",
      "+-----+--------------------+\n",
      "only showing top 10 rows\n",
      "\n"
     ]
    }
   ],
   "source": [
    "df.show(10)"
   ]
  },
  {
   "cell_type": "code",
   "execution_count": 21,
   "id": "41609e6b",
   "metadata": {
    "colab": {
     "base_uri": "https://localhost:8080/"
    },
    "id": "41609e6b",
    "outputId": "c0956c52-ff86-4b62-c9fa-89a6b6acfdb4"
   },
   "outputs": [
    {
     "name": "stdout",
     "output_type": "stream",
     "text": [
      "+-----+----------------------------------------------------------------------------------------------------------------------------------------------------------------+\n",
      "|class|text                                                                                                                                                            |\n",
      "+-----+----------------------------------------------------------------------------------------------------------------------------------------------------------------+\n",
      "|ham  |Go until jurong point, crazy.. Available only in bugis n great world la e buffet... Cine there got amore wat...                                                 |\n",
      "|ham  |Ok lar... Joking wif u oni...                                                                                                                                   |\n",
      "|spam |Free entry in 2 a wkly comp to win FA Cup final tkts 21st May 2005. Text FA to 87121 to receive entry question(std txt rate)T&C's apply 08452810075over18's     |\n",
      "|ham  |U dun say so early hor... U c already then say...                                                                                                               |\n",
      "|ham  |Nah I don't think he goes to usf, he lives around here though                                                                                                   |\n",
      "|spam |FreeMsg Hey there darling it's been 3 week's now and no word back! I'd like some fun you up for it still? Tb ok! XxX std chgs to send, £1.50 to rcv             |\n",
      "|ham  |Even my brother is not like to speak with me. They treat me like aids patent.                                                                                   |\n",
      "|ham  |As per your request 'Melle Melle (Oru Minnaminunginte Nurungu Vettam)' has been set as your callertune for all Callers. Press *9 to copy your friends Callertune|\n",
      "|spam |WINNER!! As a valued network customer you have been selected to receivea £900 prize reward! To claim call 09061701461. Claim code KL341. Valid 12 hours only.   |\n",
      "|spam |Had your mobile 11 months or more? U R entitled to Update to the latest colour mobiles with camera for Free! Call The Mobile Update Co FREE on 08002986030      |\n",
      "+-----+----------------------------------------------------------------------------------------------------------------------------------------------------------------+\n",
      "only showing top 10 rows\n",
      "\n"
     ]
    }
   ],
   "source": [
    "df.show(10 , truncate=False)"
   ]
  },
  {
   "cell_type": "markdown",
   "id": "2fe744a9",
   "metadata": {
    "id": "2fe744a9"
   },
   "source": [
    "## Clean and Prepare the Data"
   ]
  },
  {
   "cell_type": "markdown",
   "id": "4d693167",
   "metadata": {
    "id": "4d693167"
   },
   "source": [
    "### Create a new feature column contains the length of the text column"
   ]
  },
  {
   "cell_type": "code",
   "execution_count": 22,
   "id": "5424a0cb",
   "metadata": {
    "id": "5424a0cb"
   },
   "outputs": [],
   "source": [
    "from pyspark.sql.functions import length\n",
    "df = df.withColumn('length_text', length(df.text))\n"
   ]
  },
  {
   "cell_type": "code",
   "execution_count": 23,
   "id": "8F3QfHCbdyMk",
   "metadata": {
    "colab": {
     "base_uri": "https://localhost:8080/"
    },
    "id": "8F3QfHCbdyMk",
    "outputId": "24723698-6e27-4d69-9ac8-b7f5859e3406"
   },
   "outputs": [
    {
     "name": "stdout",
     "output_type": "stream",
     "text": [
      "+-----+--------------------+-----------+\n",
      "|class|                text|length_text|\n",
      "+-----+--------------------+-----------+\n",
      "|  ham|Go until jurong p...|        111|\n",
      "|  ham|Ok lar... Joking ...|         29|\n",
      "+-----+--------------------+-----------+\n",
      "only showing top 2 rows\n",
      "\n"
     ]
    }
   ],
   "source": [
    "df.show(2)"
   ]
  },
  {
   "cell_type": "markdown",
   "id": "78ea2de6",
   "metadata": {
    "id": "78ea2de6"
   },
   "source": [
    "### Show the new dataframe"
   ]
  },
  {
   "cell_type": "code",
   "execution_count": 24,
   "id": "04c67c53",
   "metadata": {
    "colab": {
     "base_uri": "https://localhost:8080/"
    },
    "id": "04c67c53",
    "outputId": "bc2e337b-c4fb-4b13-f15c-cdc39441356f",
    "scrolled": false
   },
   "outputs": [
    {
     "name": "stdout",
     "output_type": "stream",
     "text": [
      "+-----+--------------------+-----------+\n",
      "|class|                text|length_text|\n",
      "+-----+--------------------+-----------+\n",
      "|  ham|Go until jurong p...|        111|\n",
      "|  ham|Ok lar... Joking ...|         29|\n",
      "| spam|Free entry in 2 a...|        155|\n",
      "|  ham|U dun say so earl...|         49|\n",
      "|  ham|Nah I don't think...|         61|\n",
      "| spam|FreeMsg Hey there...|        147|\n",
      "|  ham|Even my brother i...|         77|\n",
      "|  ham|As per your reque...|        160|\n",
      "| spam|WINNER!! As a val...|        157|\n",
      "| spam|Had your mobile 1...|        154|\n",
      "|  ham|I'm gonna be home...|        109|\n",
      "| spam|SIX chances to wi...|        136|\n",
      "| spam|URGENT! You have ...|        155|\n",
      "|  ham|I've been searchi...|        196|\n",
      "|  ham|I HAVE A DATE ON ...|         35|\n",
      "| spam|XXXMobileMovieClu...|        149|\n",
      "|  ham|Oh k...i'm watchi...|         26|\n",
      "|  ham|Eh u remember how...|         81|\n",
      "|  ham|Fine if thats th...|         56|\n",
      "| spam|England v Macedon...|        155|\n",
      "+-----+--------------------+-----------+\n",
      "only showing top 20 rows\n",
      "\n"
     ]
    }
   ],
   "source": [
    "df.show()"
   ]
  },
  {
   "cell_type": "markdown",
   "id": "692e37a6",
   "metadata": {
    "id": "692e37a6"
   },
   "source": [
    "### Get the average text length for each class (give alias name to the average length column)"
   ]
  },
  {
   "cell_type": "code",
   "execution_count": 26,
   "id": "5c32727d",
   "metadata": {
    "id": "5c32727d"
   },
   "outputs": [],
   "source": [
    "df.createOrReplaceTempView(\"df_view\")\n"
   ]
  },
  {
   "cell_type": "code",
   "execution_count": 27,
   "id": "_oxZnzjHeySh",
   "metadata": {
    "colab": {
     "base_uri": "https://localhost:8080/"
    },
    "id": "_oxZnzjHeySh",
    "outputId": "c6d38a19-022c-439f-8a14-73eb01ea515b"
   },
   "outputs": [
    {
     "name": "stdout",
     "output_type": "stream",
     "text": [
      "+-----+-----------------+\n",
      "|class| avg(length_text)|\n",
      "+-----+-----------------+\n",
      "|  ham|71.45431945307645|\n",
      "| spam|138.6706827309237|\n",
      "+-----+-----------------+\n",
      "\n"
     ]
    }
   ],
   "source": [
    "spark.sql(\"\"\"select  class , avg(length_text) \n",
    "from df_view\n",
    "group By(class)\n",
    "\"\"\").show()"
   ]
  },
  {
   "cell_type": "markdown",
   "id": "d5e101af",
   "metadata": {
    "id": "d5e101af"
   },
   "source": [
    "## Feature Transformations"
   ]
  },
  {
   "cell_type": "markdown",
   "id": "838ad9dd",
   "metadata": {
    "id": "838ad9dd"
   },
   "source": [
    "### In this part you transform you raw text in to tf_idf model :\n",
    "- For more information about TF-IDF check the following link: <b>(Not needed for the test)</b>\n",
    "https://en.wikipedia.org/wiki/Tf%E2%80%93idf"
   ]
  },
  {
   "cell_type": "markdown",
   "id": "225067d5",
   "metadata": {
    "id": "225067d5"
   },
   "source": [
    "### Perform the following steps to obtain TF-IDF:\n",
    "1. Import the required transformers/estimators for the subsequent steps.\n",
    "2. Create a <b>Tokenizer</b> from the text column.\n",
    "3. Create a <b>StopWordsRemover</b> to remove the <b>stop words</b> from the column obtained from the <b>Tokenizer</b>.\n",
    "4. Create a <b>CountVectorizer</b> after removing the <b>stop words</b>.\n",
    "5. Create the <b>TF-IDF</b> from the <b>CountVectorizer</b>."
   ]
  },
  {
   "cell_type": "code",
   "execution_count": 34,
   "id": "6a4eebf8",
   "metadata": {
    "id": "6a4eebf8"
   },
   "outputs": [],
   "source": [
    "from pyspark.ml.feature import RegexTokenizer\n",
    "tokenizer = RegexTokenizer(inputCol=\"text\", outputCol=\"words\", pattern=\" \")\n",
    "tokenized = tokenizer.transform(df)\n"
   ]
  },
  {
   "cell_type": "code",
   "execution_count": 35,
   "id": "nwOTfjyEhOi1",
   "metadata": {
    "colab": {
     "base_uri": "https://localhost:8080/"
    },
    "id": "nwOTfjyEhOi1",
    "outputId": "4f288ffb-9a16-4873-fe49-9a7d3040d400"
   },
   "outputs": [
    {
     "name": "stdout",
     "output_type": "stream",
     "text": [
      "+-----+--------------------+-----------+--------------------+\n",
      "|class|                text|length_text|               words|\n",
      "+-----+--------------------+-----------+--------------------+\n",
      "|  ham|Go until jurong p...|        111|[go, until, juron...|\n",
      "|  ham|Ok lar... Joking ...|         29|[ok, lar..., joki...|\n",
      "| spam|Free entry in 2 a...|        155|[free, entry, in,...|\n",
      "|  ham|U dun say so earl...|         49|[u, dun, say, so,...|\n",
      "|  ham|Nah I don't think...|         61|[nah, i, don't, t...|\n",
      "| spam|FreeMsg Hey there...|        147|[freemsg, hey, th...|\n",
      "|  ham|Even my brother i...|         77|[even, my, brothe...|\n",
      "|  ham|As per your reque...|        160|[as, per, your, r...|\n",
      "| spam|WINNER!! As a val...|        157|[winner!!, as, a,...|\n",
      "| spam|Had your mobile 1...|        154|[had, your, mobil...|\n",
      "|  ham|I'm gonna be home...|        109|[i'm, gonna, be, ...|\n",
      "| spam|SIX chances to wi...|        136|[six, chances, to...|\n",
      "| spam|URGENT! You have ...|        155|[urgent!, you, ha...|\n",
      "|  ham|I've been searchi...|        196|[i've, been, sear...|\n",
      "|  ham|I HAVE A DATE ON ...|         35|[i, have, a, date...|\n",
      "| spam|XXXMobileMovieClu...|        149|[xxxmobilemoviecl...|\n",
      "|  ham|Oh k...i'm watchi...|         26|[oh, k...i'm, wat...|\n",
      "|  ham|Eh u remember how...|         81|[eh, u, remember,...|\n",
      "|  ham|Fine if thats th...|         56|[fine, if, thats...|\n",
      "| spam|England v Macedon...|        155|[england, v, mace...|\n",
      "+-----+--------------------+-----------+--------------------+\n",
      "only showing top 20 rows\n",
      "\n"
     ]
    }
   ],
   "source": [
    "tokenized.show()"
   ]
  },
  {
   "cell_type": "code",
   "execution_count": 40,
   "id": "Odsg57LegGy2",
   "metadata": {
    "id": "Odsg57LegGy2"
   },
   "outputs": [],
   "source": [
    "from pyspark.sql import SparkSession\n",
    "from pyspark.sql.functions import udf, col, lower, regexp_replace\n",
    "from pyspark.ml.feature import Tokenizer, StopWordsRemover \n",
    "from nltk.stem.snowball import SnowballStemmer\n",
    "\n",
    "\n",
    "remover = StopWordsRemover(inputCol='words', outputCol='words_clean')\n",
    "df_words_no_stopw = remover.transform(tokenized)"
   ]
  },
  {
   "cell_type": "code",
   "execution_count": 41,
   "id": "u7wvDGwZgG3L",
   "metadata": {
    "colab": {
     "base_uri": "https://localhost:8080/"
    },
    "id": "u7wvDGwZgG3L",
    "outputId": "b34ccc25-6678-41c2-ab35-2e2a7f208994"
   },
   "outputs": [
    {
     "name": "stdout",
     "output_type": "stream",
     "text": [
      "+-----+--------------------+-----------+--------------------+--------------------+\n",
      "|class|                text|length_text|               words|         words_clean|\n",
      "+-----+--------------------+-----------+--------------------+--------------------+\n",
      "|  ham|Go until jurong p...|        111|[go, until, juron...|[go, jurong, poin...|\n",
      "|  ham|Ok lar... Joking ...|         29|[ok, lar..., joki...|[ok, lar..., joki...|\n",
      "+-----+--------------------+-----------+--------------------+--------------------+\n",
      "only showing top 2 rows\n",
      "\n"
     ]
    }
   ],
   "source": [
    "df_words_no_stopw.show(2)"
   ]
  },
  {
   "cell_type": "code",
   "execution_count": 50,
   "id": "r9c7CVrGgG7q",
   "metadata": {
    "id": "r9c7CVrGgG7q"
   },
   "outputs": [],
   "source": [
    "from pyspark.ml.feature import CountVectorizer\n",
    "\n",
    "import pyspark.ml.feature"
   ]
  },
  {
   "cell_type": "code",
   "execution_count": 51,
   "id": "b82756db",
   "metadata": {
    "id": "b82756db"
   },
   "outputs": [],
   "source": [
    "cv = CountVectorizer(inputCol = \"words_clean\" , outputCol=\"features\")\n",
    "model = cv.fit(df_words_no_stopw)"
   ]
  },
  {
   "cell_type": "code",
   "execution_count": 70,
   "id": "hGV1Kj2osCc0",
   "metadata": {
    "id": "hGV1Kj2osCc0"
   },
   "outputs": [],
   "source": [
    "from pyspark.ml.feature import HashingTF, IDF, Tokenizer\n",
    "idf = IDF(inputCol=\"features\", outputCol=\"tf_idf\")"
   ]
  },
  {
   "cell_type": "code",
   "execution_count": 70,
   "id": "-yABru88s0vA",
   "metadata": {
    "id": "-yABru88s0vA"
   },
   "outputs": [],
   "source": []
  },
  {
   "cell_type": "markdown",
   "id": "1527ad65",
   "metadata": {
    "id": "1527ad65"
   },
   "source": [
    "- Convert the <b>class column</b> to index using <b>StringIndexer</b>\n",
    "- Create feature column from the <b>TF-IDF</b> and <b>lenght</b> columns."
   ]
  },
  {
   "cell_type": "code",
   "execution_count": 71,
   "id": "aaf46159",
   "metadata": {
    "id": "aaf46159"
   },
   "outputs": [],
   "source": [
    "from pyspark.ml.feature import StringIndexer, OneHotEncoder ,VectorAssembler\n",
    "\n",
    "ham_spam_to_num = StringIndexer(inputCol='class',outputCol='label')\n",
    "clean_up = VectorAssembler(inputCols=['tf_idf','length_text'],outputCol='feature')\n"
   ]
  },
  {
   "cell_type": "code",
   "execution_count": null,
   "id": "ad9d4c52",
   "metadata": {
    "id": "ad9d4c52"
   },
   "outputs": [],
   "source": []
  },
  {
   "cell_type": "markdown",
   "id": "9775d494",
   "metadata": {
    "id": "9775d494"
   },
   "source": [
    "## The Model\n",
    "- Create a <b>NaiveBayes</b> classifier with the default parameters."
   ]
  },
  {
   "cell_type": "code",
   "execution_count": 72,
   "id": "57af0d5d",
   "metadata": {
    "id": "57af0d5d"
   },
   "outputs": [],
   "source": [
    "from pyspark.ml.classification import NaiveBayes\n",
    "# Use defaults\n",
    "nb = NaiveBayes()"
   ]
  },
  {
   "cell_type": "code",
   "execution_count": 58,
   "id": "54c7384e",
   "metadata": {
    "id": "54c7384e"
   },
   "outputs": [],
   "source": []
  },
  {
   "cell_type": "markdown",
   "id": "dc14de63",
   "metadata": {
    "id": "dc14de63"
   },
   "source": [
    "## Pipeline\n",
    "### Create a pipeline model contains all the steps starting from the Tokenizer to the NaiveBays classifier."
   ]
  },
  {
   "cell_type": "code",
   "execution_count": 73,
   "id": "8ee0d1ca",
   "metadata": {
    "id": "8ee0d1ca"
   },
   "outputs": [],
   "source": [
    "from pyspark.ml import Pipeline\n",
    "data_prep_pipe = Pipeline(stages=[ham_spam_to_num , tokenizer , remover , model , idf , clean_up])\n",
    "cleaner = data_prep_pipe.fit(df)\n"
   ]
  },
  {
   "cell_type": "code",
   "execution_count": 74,
   "id": "7f82bab0",
   "metadata": {
    "id": "7f82bab0"
   },
   "outputs": [],
   "source": [
    "clean_data = cleaner.transform(df)"
   ]
  },
  {
   "cell_type": "code",
   "execution_count": 75,
   "id": "ZDcmdHKkvmyH",
   "metadata": {
    "colab": {
     "base_uri": "https://localhost:8080/"
    },
    "id": "ZDcmdHKkvmyH",
    "outputId": "dec52b10-1e7b-4906-ce5b-58e3dae28679"
   },
   "outputs": [
    {
     "name": "stdout",
     "output_type": "stream",
     "text": [
      "+-----+--------------------+\n",
      "|label|            features|\n",
      "+-----+--------------------+\n",
      "|  0.0|(13422,[6,10,30,6...|\n",
      "|  0.0|(13422,[0,23,296,...|\n",
      "|  1.0|(13422,[2,12,18,2...|\n",
      "|  0.0|(13422,[0,69,79,1...|\n",
      "|  0.0|(13422,[35,131,31...|\n",
      "|  1.0|(13422,[9,59,139,...|\n",
      "|  0.0|(13422,[9,52,103,...|\n",
      "|  0.0|(13422,[124,184,4...|\n",
      "|  1.0|(13422,[1,46,118,...|\n",
      "|  1.0|(13422,[0,1,12,26...|\n",
      "|  0.0|(13422,[17,42,120...|\n",
      "|  1.0|(13422,[7,15,36,8...|\n",
      "|  1.0|(13422,[12,29,46,...|\n",
      "|  0.0|(13422,[38,95,216...|\n",
      "|  0.0|(13422,[549,1694,...|\n",
      "|  1.0|(13422,[29,107,10...|\n",
      "|  0.0|(13422,[81,211,47...|\n",
      "|  0.0|(13422,[0,2,48,13...|\n",
      "|  0.0|(13422,[0,73,101,...|\n",
      "|  1.0|(13422,[3,29,32,5...|\n",
      "+-----+--------------------+\n",
      "only showing top 20 rows\n",
      "\n"
     ]
    }
   ],
   "source": [
    "clean_data = clean_data.select(['label','features'])\n",
    "clean_data.show()"
   ]
  },
  {
   "cell_type": "markdown",
   "id": "f5d7efbe",
   "metadata": {
    "id": "f5d7efbe"
   },
   "source": [
    "### Split your data to trian and test data with ratios 0.7 and 0.3 respectively."
   ]
  },
  {
   "cell_type": "code",
   "execution_count": 76,
   "id": "2843d997",
   "metadata": {
    "colab": {
     "base_uri": "https://localhost:8080/"
    },
    "id": "2843d997",
    "outputId": "92f1fa82-3280-455b-8ba7-4bf3a35b94da"
   },
   "outputs": [
    {
     "name": "stdout",
     "output_type": "stream",
     "text": [
      "+-----+--------------------+--------------------+--------------------+----------+\n",
      "|label|            features|       rawPrediction|         probability|prediction|\n",
      "+-----+--------------------+--------------------+--------------------+----------+\n",
      "|  0.0|(13422,[0,1,4,14,...|[-146.31324243697...|[0.99999999989554...|       0.0|\n",
      "|  0.0|(13422,[0,1,6,7,1...|[-159.03156685223...|[0.99999351227187...|       0.0|\n",
      "|  0.0|(13422,[0,1,6,14,...|[-111.26346900331...|[0.99999999999700...|       0.0|\n",
      "|  0.0|(13422,[0,1,8,134...|[-76.131892632766...|[0.99971553781189...|       0.0|\n",
      "|  0.0|(13422,[0,1,10,31...|[-141.21603903732...|[0.99999999980366...|       0.0|\n",
      "|  0.0|(13422,[0,1,11,32...|[-74.986582977333...|[0.99999934856585...|       0.0|\n",
      "|  0.0|(13422,[0,1,13,17...|[-171.96738648971...|[0.99999999764508...|       0.0|\n",
      "|  0.0|(13422,[0,1,45,17...|[-128.58659987302...|[0.17123689141439...|       1.0|\n",
      "|  0.0|(13422,[0,1,497,5...|[-46.305620510879...|[0.98982323727546...|       0.0|\n",
      "|  0.0|(13422,[0,1,876],...|[-18.639170977801...|[0.97150133026077...|       0.0|\n",
      "|  0.0|(13422,[0,1,876],...|[-18.639170977801...|[0.97150133026077...|       0.0|\n",
      "|  0.0|(13422,[0,2,3,4,6...|[-169.11134416574...|[1.0,1.3539699228...|       0.0|\n",
      "|  0.0|(13422,[0,2,3,5,8...|[-179.01735546012...|[0.99999999993014...|       0.0|\n",
      "|  0.0|(13422,[0,2,3,7,2...|[-205.33205474003...|[0.99999999995439...|       0.0|\n",
      "|  0.0|(13422,[0,2,4,29,...|[-78.624372366395...|[0.99925865203014...|       0.0|\n",
      "|  0.0|(13422,[0,2,6,26,...|[-67.971358546100...|[0.99702625805023...|       0.0|\n",
      "|  0.0|(13422,[0,2,6,127...|[-39.876971049062...|[0.99996037862631...|       0.0|\n",
      "|  0.0|(13422,[0,2,7,13,...|[-81.588991532740...|[0.99999999645568...|       0.0|\n",
      "|  0.0|(13422,[0,2,7,27,...|[-198.78352245968...|[0.99999999996205...|       0.0|\n",
      "|  0.0|(13422,[0,2,9,12,...|[-660.26407408342...|[1.0,1.7416717001...|       0.0|\n",
      "+-----+--------------------+--------------------+--------------------+----------+\n",
      "only showing top 20 rows\n",
      "\n"
     ]
    }
   ],
   "source": [
    "(training,testing) = clean_data.randomSplit([0.7,0.3])\n"
   ]
  },
  {
   "cell_type": "markdown",
   "id": "8bcea576",
   "metadata": {
    "id": "8bcea576"
   },
   "source": [
    "### Fit your Pipeline model to the training data"
   ]
  },
  {
   "cell_type": "code",
   "execution_count": 77,
   "id": "3c5d4681",
   "metadata": {
    "id": "3c5d4681"
   },
   "outputs": [],
   "source": [
    "spam_predictor = nb.fit(training)"
   ]
  },
  {
   "cell_type": "markdown",
   "id": "228a3eb1",
   "metadata": {
    "id": "228a3eb1"
   },
   "source": [
    "### Perform predictions on tests dataframe"
   ]
  },
  {
   "cell_type": "code",
   "execution_count": 78,
   "id": "14f4aab5",
   "metadata": {
    "colab": {
     "base_uri": "https://localhost:8080/"
    },
    "id": "14f4aab5",
    "outputId": "16c9600c-678e-4f0b-b0e4-330bfba9bd8a"
   },
   "outputs": [
    {
     "name": "stdout",
     "output_type": "stream",
     "text": [
      "+-----+--------------------+--------------------+--------------------+----------+\n",
      "|label|            features|       rawPrediction|         probability|prediction|\n",
      "+-----+--------------------+--------------------+--------------------+----------+\n",
      "|  0.0|(13422,[0,1,4,14,...|[-146.31324243697...|[0.99999999989554...|       0.0|\n",
      "|  0.0|(13422,[0,1,6,7,1...|[-159.03156685223...|[0.99999351227187...|       0.0|\n",
      "|  0.0|(13422,[0,1,6,14,...|[-111.26346900331...|[0.99999999999700...|       0.0|\n",
      "|  0.0|(13422,[0,1,8,134...|[-76.131892632766...|[0.99971553781189...|       0.0|\n",
      "|  0.0|(13422,[0,1,10,31...|[-141.21603903732...|[0.99999999980366...|       0.0|\n",
      "|  0.0|(13422,[0,1,11,32...|[-74.986582977333...|[0.99999934856585...|       0.0|\n",
      "|  0.0|(13422,[0,1,13,17...|[-171.96738648971...|[0.99999999764508...|       0.0|\n",
      "|  0.0|(13422,[0,1,45,17...|[-128.58659987302...|[0.17123689141439...|       1.0|\n",
      "|  0.0|(13422,[0,1,497,5...|[-46.305620510879...|[0.98982323727546...|       0.0|\n",
      "|  0.0|(13422,[0,1,876],...|[-18.639170977801...|[0.97150133026077...|       0.0|\n",
      "|  0.0|(13422,[0,1,876],...|[-18.639170977801...|[0.97150133026077...|       0.0|\n",
      "|  0.0|(13422,[0,2,3,4,6...|[-169.11134416574...|[1.0,1.3539699228...|       0.0|\n",
      "|  0.0|(13422,[0,2,3,5,8...|[-179.01735546012...|[0.99999999993014...|       0.0|\n",
      "|  0.0|(13422,[0,2,3,7,2...|[-205.33205474003...|[0.99999999995439...|       0.0|\n",
      "|  0.0|(13422,[0,2,4,29,...|[-78.624372366395...|[0.99925865203014...|       0.0|\n",
      "|  0.0|(13422,[0,2,6,26,...|[-67.971358546100...|[0.99702625805023...|       0.0|\n",
      "|  0.0|(13422,[0,2,6,127...|[-39.876971049062...|[0.99996037862631...|       0.0|\n",
      "|  0.0|(13422,[0,2,7,13,...|[-81.588991532740...|[0.99999999645568...|       0.0|\n",
      "|  0.0|(13422,[0,2,7,27,...|[-198.78352245968...|[0.99999999996205...|       0.0|\n",
      "|  0.0|(13422,[0,2,9,12,...|[-660.26407408342...|[1.0,1.7416717001...|       0.0|\n",
      "+-----+--------------------+--------------------+--------------------+----------+\n",
      "only showing top 20 rows\n",
      "\n"
     ]
    }
   ],
   "source": [
    "\n",
    "test_results = spam_predictor.transform(testing)\n",
    "test_results.show()"
   ]
  },
  {
   "cell_type": "markdown",
   "id": "bce2885f",
   "metadata": {
    "id": "bce2885f"
   },
   "source": [
    "### Print the schema of the prediction dataframe"
   ]
  },
  {
   "cell_type": "code",
   "execution_count": 79,
   "id": "6e3ea341",
   "metadata": {
    "colab": {
     "base_uri": "https://localhost:8080/"
    },
    "id": "6e3ea341",
    "outputId": "979d5edc-b910-483d-96c8-7cf1381f0f98"
   },
   "outputs": [
    {
     "name": "stdout",
     "output_type": "stream",
     "text": [
      "root\n",
      " |-- label: double (nullable = false)\n",
      " |-- features: vector (nullable = true)\n",
      " |-- rawPrediction: vector (nullable = true)\n",
      " |-- probability: vector (nullable = true)\n",
      " |-- prediction: double (nullable = false)\n",
      "\n"
     ]
    }
   ],
   "source": [
    "test_results.printSchema()"
   ]
  },
  {
   "cell_type": "markdown",
   "id": "57f27055",
   "metadata": {
    "id": "57f27055"
   },
   "source": [
    "## Model Evaluation\n",
    "- Use <b>MulticlassClassificationEvaluator</b> to calculate the <b>f1_score</b>."
   ]
  },
  {
   "cell_type": "code",
   "execution_count": 80,
   "id": "61911086",
   "metadata": {
    "colab": {
     "base_uri": "https://localhost:8080/"
    },
    "id": "61911086",
    "outputId": "0e550f07-f4ae-4704-f941-ed1886bca289"
   },
   "outputs": [
    {
     "name": "stdout",
     "output_type": "stream",
     "text": [
      "Accuracy of model at predicting spam was: 0.9715536818798259\n"
     ]
    }
   ],
   "source": [
    "from pyspark.ml.evaluation import MulticlassClassificationEvaluator\n",
    "acc_eval = MulticlassClassificationEvaluator()\n",
    "acc = acc_eval.evaluate(test_results)\n",
    "print(\"Accuracy of model at predicting spam was: {}\".format(acc))"
   ]
  },
  {
   "cell_type": "code",
   "execution_count": null,
   "id": "be706565",
   "metadata": {
    "id": "be706565"
   },
   "outputs": [],
   "source": []
  },
  {
   "cell_type": "code",
   "execution_count": null,
   "id": "af1f9ba1",
   "metadata": {
    "id": "af1f9ba1",
    "outputId": "af64d096-47d1-40a3-c7ab-f89e3e60c587"
   },
   "outputs": [
    {
     "name": "stdout",
     "output_type": "stream",
     "text": [
      "f1_score is: 0.9664707489549014\n"
     ]
    }
   ],
   "source": []
  },
  {
   "cell_type": "markdown",
   "id": "e00e7b53",
   "metadata": {
    "id": "e00e7b53"
   },
   "source": [
    "# GOOD LUCK\n",
    "<b><font color='GREEN'>AI-PRO Spark Team ITI</font></b>"
   ]
  }
 ],
 "metadata": {
  "colab": {
   "name": "abdelrhman_elkhouly_mans_G2_Spark and Python for Big Data Final Exam-Branches.ipynb",
   "provenance": []
  },
  "kernelspec": {
   "display_name": "Python 3 (ipykernel)",
   "language": "python",
   "name": "python3"
  },
  "language_info": {
   "codemirror_mode": {
    "name": "ipython",
    "version": 3
   },
   "file_extension": ".py",
   "mimetype": "text/x-python",
   "name": "python",
   "nbconvert_exporter": "python",
   "pygments_lexer": "ipython3",
   "version": "3.9.7"
  }
 },
 "nbformat": 4,
 "nbformat_minor": 5
}
